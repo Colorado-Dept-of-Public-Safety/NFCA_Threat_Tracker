{
 "cells": [
  {
   "cell_type": "markdown",
   "id": "74a28601-8eaa-4357-976f-8e6f873818de",
   "metadata": {},
   "source": [
    "## Instructions for Using HSIN GII to Create a Threat Tracker ## \n",
    "#### Date Created: March 19th 2024 #### \n",
    "#### Created by: Rachel Stevenson #### \n",
    "#### Contact Information Email: rachel.stevenson@state.co.us Ph: 720-430-0340 #### \n",
    "\n",
    "##### Note: The following Instructions are for the HSIN GII ArcGIS Enterprise System ####"
   ]
  },
  {
   "cell_type": "markdown",
   "id": "4cdb415a-d220-40aa-a942-6a6510a7aa68",
   "metadata": {},
   "source": [
    "### Step 1: Design Your Survey ###\n",
    "<p> Using Survey123 in GII you'll need to develop a survey to track threats that your fusion center is interested in tracking.</p>\n",
    "<p> The following questions are an example of what the Colorado Fusion Center used in our survey for the elction threat tracker:\n",
    "    <ol> \n",
    "    <li> First Name - Singleline Text </li>\n",
    "    <li> Last Name - Singleline Text </li>\n",
    "    <li> Email - Singleline Text</li>\n",
    "    <li> Phone Number - Singleline Text</li>\n",
    "    <li> Incident Date - Date </li>\n",
    "    <li> Law Enforcement Senstative - Single Select </li>\n",
    "    <li> Criminal Incident or Suspicious Activity - Single Select </li>\n",
    "    <li> Incident Occurance - Single Select </li>\n",
    "    </ol></p>\n",
    "<p><b> Decision Tree: Once a user selects the type of occurance the remainder of the survey will adjust based on this question. </b> </p>\n",
    "<p>Physical Occurance Questions\n",
    "<ol>\n",
    "    <li>Physical Threats - Single Select </li>\n",
    "    <li>Description of Incident - Multiline Text</li>\n",
    "    <li>County - Dropdown </li>\n",
    "    <li>Location of Incident - Map Widget</li>\n",
    "    <li> Images related to Incident - Image Widget</li>\n",
    "</ol></p>\n",
    "<p> Online/Cyber Occurance Questions \n",
    "<ol>\n",
    "    <li>Cyber and Online Incident Topics - Single Select</li>\n",
    "    <li>Online Platform - Dropdown</li>\n",
    "    <li>IP Address - Single Textbox </li>\n",
    "    <li>Description of Incident - Multiline Text</li>\n",
    "    <li>Images related to Incident - Image Widget</li>\n",
    "    <li>Related Links - Multiline Text</li>\n",
    "</ol></p>"
   ]
  },
  {
   "cell_type": "markdown",
   "id": "900cdf04-a12d-4a4f-8e9d-d8d8c9c3ed8e",
   "metadata": {},
   "source": [
    "### Step 2: Setup Make ###\n",
    "<p><b> If you havent used make in the past, you'll need to setup a free account.</b></p>\n",
    "<p> Make is an automation tool that allows you to create a scenario using apps to move data from one application to another. </p>\n",
    "<p>The scenario the Colorado Fusion Center used the following applications: \n",
    "<ul>\n",
    "    <li>Survey123 - Connect Make to ArcGIS through the survey application</li>\n",
    "    <li> HTTP Request - used to attach images to emails </li>\n",
    "    <li> Router - This tool will alow you to send incoming data to multiple applicaitons </li>\n",
    "    <li> Gmail - I used this application twice to seperate out LES emails and FOUO emails. </li>\n",
    "    <li> Google Sheets - Used to empty any reports into for leadership and other analysts at the Colorado Fucison Center</li>\n",
    "</ul></p>\n",
    "\n",
    "<p><b>Note:</b> If you use HSIN GII you may have additional steps to complete in order to get the Enterprise system of the GII to talk with Make more information can ba found<a href='https://community.esri.com/t5/arcgis-survey123-blog/survey123-tricks-of-the-trade-make-previously/ba-p/896320'> here.</a></p>\n",
    "\n",
    "<p>The following image shows a screenshot of the scenario  </p>"
   ]
  },
  {
   "cell_type": "markdown",
   "id": "f0207227-b1c3-4912-a101-2dc18d0dab05",
   "metadata": {},
   "source": [
    "![Make_For_NFCA_Example](Screenshot_2024-03-20_093334.png)"
   ]
  },
  {
   "cell_type": "markdown",
   "id": "f2b38485-f38d-409c-83de-e6b352406259",
   "metadata": {},
   "source": [
    "### Step 3: Testing Part One ###"
   ]
  },
  {
   "cell_type": "markdown",
   "id": "736d684a-d7c2-4b88-a182-c2f09a24394e",
   "metadata": {},
   "source": [
    "<P> After creating your survey and creating your Make scenario, you should take a moment to test the scenrario to ensure it does what you want it to. <ol>\n",
    "    <li> Enter data into your survey </li>\n",
    "    <li> Select Run Once on the Make scenario interface.</li>\n",
    "    <li>If the scenario runs the way you have it setup to run you'll seen green check marks next to each module application. </li>\n",
    "    <li> If any of the modules have a red star, that suggets there has been an error and that something needs to be fixed. </li>\n",
    "    <li> Once you have run through the scenario and identified that it works successfully you are ready for to start collecting data! </li>\n",
    "</ol></P>"
   ]
  },
  {
   "cell_type": "markdown",
   "id": "9988d772-f7a8-44ad-8d3b-cdd5c1045206",
   "metadata": {},
   "source": [
    "### Step 4: Analysis ####"
   ]
  },
  {
   "cell_type": "markdown",
   "id": "2716cfde-55b0-4cc8-bc21-1b52538531ec",
   "metadata": {},
   "source": [
    "<p> Once you have collected data regarding threats, you may want to conduct analyss on the data you collect. </p>\n",
    "<p> For the Colorado Fusion Center; two dashboards were created by my teammates: <ol>\n",
    "    <li> Monthly Reports - Looked at reports entered into the threat tracker for the pervious month.</li>\n",
    "    <li> Quaterly Reports - Looked at reports over a span of three months.   </li>\n",
    "</ol> </p>\n",
    "<p> The dashboard shows a statstical frequency of the number of reports and specficaly loooks are different attributes related to the survey.</p>\n",
    "<p> Some examples of stasticalfrequency questions: <ol>\n",
    "    <li> How many reports by county?</li>\n",
    "    <li> How many reports by sector?</li>\n",
    "    <li> How reports submitted monthly? Vs Overall? </li>\n",
    "</ol> </p>\n",
    "<p> The dashboard is a great way to aggrgate data and share those numbers with partners who submit reports.</p>\n",
    "<p> Your dashboard may look drastically different from the samplesincluded here. </p>"
   ]
  },
  {
   "cell_type": "code",
   "execution_count": null,
   "id": "7a105f34-0880-4503-9703-56055b19bb8b",
   "metadata": {},
   "outputs": [],
   "source": []
  }
 ],
 "metadata": {
  "kernelspec": {
   "display_name": "Python 3 (ipykernel)",
   "language": "python",
   "name": "python3"
  },
  "language_info": {
   "codemirror_mode": {
    "name": "ipython",
    "version": 3
   },
   "file_extension": ".py",
   "mimetype": "text/x-python",
   "name": "python",
   "nbconvert_exporter": "python",
   "pygments_lexer": "ipython3",
   "version": "3.11.7"
  }
 },
 "nbformat": 4,
 "nbformat_minor": 5
}
